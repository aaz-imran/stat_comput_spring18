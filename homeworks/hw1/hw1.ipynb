{
 "cells": [
  {
   "cell_type": "markdown",
   "metadata": {},
   "source": [
    "#### Q2 \n",
    "#### 1. Let's check whether floating-point numbers obey certain algebraic rules.                                                                               Associative rule for addition says (x + y) + z == x + (y + z). Check association rule using x = 0.1, y = 0.1 and z = 1.0 in Julia. Explain what you find."
   ]
  },
  {
   "cell_type": "code",
   "execution_count": 1,
   "metadata": {},
   "outputs": [
    {
     "data": {
      "text/plain": [
       "1.0"
      ]
     },
     "execution_count": 1,
     "metadata": {},
     "output_type": "execute_result"
    }
   ],
   "source": [
    "x = 0.1\n",
    "y = 0.1\n",
    "z = 1.0"
   ]
  },
  {
   "cell_type": "code",
   "execution_count": 7,
   "metadata": {},
   "outputs": [
    {
     "data": {
      "text/plain": [
       "(1.2,1.2000000000000002)"
      ]
     },
     "execution_count": 7,
     "metadata": {},
     "output_type": "execute_result"
    }
   ],
   "source": [
    "a = (x + y) + z\n",
    "b = x + (y + z)\n",
    "\n",
    "a, b"
   ]
  },
  {
   "cell_type": "markdown",
   "metadata": {},
   "source": [
    "#### Explanation: \n",
    "Doesn't follow assocaitaive rule for addition"
   ]
  },
  {
   "cell_type": "markdown",
   "metadata": {},
   "source": [
    "#### 2. Do floating-point numbers obey the associative rule for multiplication: (x \\* y) \\* z == x \\* (y \\* z)?"
   ]
  },
  {
   "cell_type": "code",
   "execution_count": 11,
   "metadata": {},
   "outputs": [
    {
     "name": "stdout",
     "output_type": "stream",
     "text": [
      "a == b = true\n"
     ]
    },
    {
     "data": {
      "text/plain": [
       "true"
      ]
     },
     "execution_count": 11,
     "metadata": {},
     "output_type": "execute_result"
    }
   ],
   "source": [
    "a = (x * y) * z\n",
    "b = x * (y * z)\n",
    "@show a == b"
   ]
  },
  {
   "cell_type": "markdown",
   "metadata": {},
   "source": [
    "#### Explanation:\n",
    "\n",
    "Follow assocaitaive rule for multiplication\n"
   ]
  },
  {
   "cell_type": "markdown",
   "metadata": {},
   "source": [
    "#### 3. Do floating-point numbers obey the distributive rule: a \\* (x + y) == a \\* x + a \\* y?"
   ]
  },
  {
   "cell_type": "markdown",
   "metadata": {},
   "source": [
    "#### 4. Is 0 * x == 0 true for all floating-point number x?"
   ]
  },
  {
   "cell_type": "code",
   "execution_count": 12,
   "metadata": {},
   "outputs": [
    {
     "data": {
      "text/plain": [
       "true"
      ]
     },
     "execution_count": 12,
     "metadata": {},
     "output_type": "execute_result"
    }
   ],
   "source": [
    "x = 1.0\n",
    "0 * x == 0"
   ]
  },
  {
   "cell_type": "code",
   "execution_count": 13,
   "metadata": {},
   "outputs": [
    {
     "data": {
      "text/plain": [
       "true"
      ]
     },
     "execution_count": 13,
     "metadata": {},
     "output_type": "execute_result"
    }
   ],
   "source": [
    "x = 2.3\n",
    "0 * x == 0"
   ]
  },
  {
   "cell_type": "code",
   "execution_count": 14,
   "metadata": {},
   "outputs": [
    {
     "data": {
      "text/plain": [
       "true"
      ]
     },
     "execution_count": 14,
     "metadata": {},
     "output_type": "execute_result"
    }
   ],
   "source": [
    "x = 1.9547\n",
    "0 * x == 0"
   ]
  },
  {
   "cell_type": "code",
   "execution_count": 15,
   "metadata": {},
   "outputs": [
    {
     "data": {
      "text/plain": [
       "true"
      ]
     },
     "execution_count": 15,
     "metadata": {},
     "output_type": "execute_result"
    }
   ],
   "source": [
    "x = 3.00000000009\n",
    "0 * x == 0"
   ]
  },
  {
   "cell_type": "markdown",
   "metadata": {},
   "source": [
    "#### Explanation:\n",
    "Yes, its true for all floating-point number x"
   ]
  },
  {
   "cell_type": "markdown",
   "metadata": {},
   "source": [
    "#### 5. Is x / a == x * (1 / a) always true?\n"
   ]
  },
  {
   "cell_type": "code",
   "execution_count": 16,
   "metadata": {},
   "outputs": [
    {
     "data": {
      "text/plain": [
       "true"
      ]
     },
     "execution_count": 16,
     "metadata": {},
     "output_type": "execute_result"
    }
   ],
   "source": [
    "# x > a:\n",
    "x = 7.4\n",
    "a = 2.6\n",
    "\n",
    "x / a == x * (1 / a)"
   ]
  },
  {
   "cell_type": "code",
   "execution_count": 18,
   "metadata": {},
   "outputs": [
    {
     "data": {
      "text/plain": [
       "false"
      ]
     },
     "execution_count": 18,
     "metadata": {},
     "output_type": "execute_result"
    }
   ],
   "source": [
    "# x < a:\n",
    "x = 1.78\n",
    "a = 5.24\n",
    "\n",
    "x / a == x * (1 / a)"
   ]
  },
  {
   "cell_type": "markdown",
   "metadata": {},
   "source": [
    "#### Explanation:\n",
    "No, only when x is greater than a"
   ]
  },
  {
   "cell_type": "markdown",
   "metadata": {},
   "source": [
    "#### Q3\n",
    "\n",
    "Consider Julia function\n",
    "\n",
    "function g(k) \\newline\n",
    "    for i = 1:10\\newline\n",
    "        k = 5k - 1 \\newline\n",
    "    end \\newline\n",
    "    k \\newline\n",
    "end \\newline\n",
    "\n",
    "    Use @code_llvm to find the LLVM bitcode of compiled g with Int64 input.\n",
    "    Use @code_llvm to find the LLVM bitcode of compiled g with Float64 input.\n",
    "    Compare the bitcode from questions 1 and 2. What do you find?\n",
    "    Read Julia documentation on @fastmath and repeat the questions 1-3 on the function\n",
    "\n",
    "function g_fastmath(k)  \n",
    "    @fastmath for i = 1:10  \n",
    "        k = 5k - 1\n",
    "    end\n",
    "    k\n",
    "end\n",
    "\n",
    "Explain what does macro @fastmath do?\n"
   ]
  },
  {
   "cell_type": "code",
   "execution_count": 20,
   "metadata": {},
   "outputs": [
    {
     "data": {
      "text/plain": [
       "g (generic function with 1 method)"
      ]
     },
     "execution_count": 20,
     "metadata": {},
     "output_type": "execute_result"
    }
   ],
   "source": [
    "function g(k)\n",
    "    for i = 1:10\n",
    "        k = 5k - 1\n",
    "    end\n",
    "    k\n",
    "end"
   ]
  },
  {
   "cell_type": "code",
   "execution_count": 21,
   "metadata": {},
   "outputs": [
    {
     "name": "stdout",
     "output_type": "stream",
     "text": [
      "\n",
      "define %jl_value_t* @julia_g_21763(%jl_value_t*, %jl_value_t**, i32) {\n",
      "top:\n",
      "  %3 = alloca [5 x %jl_value_t*], align 8\n",
      "  %.sub = getelementptr inbounds [5 x %jl_value_t*], [5 x %jl_value_t*]* %3, i64 0, i64 0\n",
      "  %4 = getelementptr [5 x %jl_value_t*], [5 x %jl_value_t*]* %3, i64 0, i64 2\n",
      "  %5 = getelementptr [5 x %jl_value_t*], [5 x %jl_value_t*]* %3, i64 0, i64 3\n",
      "  %6 = bitcast [5 x %jl_value_t*]* %3 to i64*\n",
      "  store i64 6, i64* %6, align 8\n",
      "  %7 = getelementptr [5 x %jl_value_t*], [5 x %jl_value_t*]* %3, i64 0, i64 1\n",
      "  %8 = load i64, i64* bitcast (%jl_value_t*** @jl_pgcstack to i64*), align 8\n",
      "  %9 = bitcast %jl_value_t** %7 to i64*\n",
      "  store i64 %8, i64* %9, align 8\n",
      "  store %jl_value_t** %.sub, %jl_value_t*** @jl_pgcstack, align 8\n",
      "  store %jl_value_t* null, %jl_value_t** %5, align 8\n",
      "  %10 = getelementptr [5 x %jl_value_t*], [5 x %jl_value_t*]* %3, i64 0, i64 4\n",
      "  store %jl_value_t* null, %jl_value_t** %10, align 8\n",
      "  %11 = bitcast %jl_value_t** %1 to i64*\n",
      "  %12 = load i64, i64* %11, align 8\n",
      "  %13 = bitcast %jl_value_t** %4 to i64*\n",
      "  store i64 %12, i64* %13, align 8\n",
      "  %14 = bitcast %jl_value_t** %10 to i64*\n",
      "  br label %L\n",
      "\n",
      "L:                                                ; preds = %L, %top\n",
      "  %15 = phi i64 [ %12, %top ], [ %20, %L ]\n",
      "  %\"#s8.0\" = phi i64 [ 1, %top ], [ %16, %L ]\n",
      "  %16 = add nuw nsw i64 %\"#s8.0\", 1\n",
      "  store %jl_value_t* inttoptr (i64 139892033577280 to %jl_value_t*), %jl_value_t** %5, align 8\n",
      "  store i64 %15, i64* %14, align 8\n",
      "  %17 = call %jl_value_t* @jl_apply_generic(%jl_value_t* inttoptr (i64 139892037613648 to %jl_value_t*), %jl_value_t** %5, i32 2)\n",
      "  store %jl_value_t* %17, %jl_value_t** %5, align 8\n",
      "  store %jl_value_t* inttoptr (i64 139892033577088 to %jl_value_t*), %jl_value_t** %10, align 8\n",
      "  %18 = call %jl_value_t* @jl_apply_generic(%jl_value_t* inttoptr (i64 139892038512304 to %jl_value_t*), %jl_value_t** %5, i32 2)\n",
      "  store %jl_value_t* %18, %jl_value_t** %4, align 8\n",
      "  %19 = icmp eq i64 %\"#s8.0\", 10\n",
      "  %20 = ptrtoint %jl_value_t* %18 to i64\n",
      "  br i1 %19, label %L3, label %L\n",
      "\n",
      "L3:                                               ; preds = %L\n",
      "  %21 = load i64, i64* %9, align 8\n",
      "  store i64 %21, i64* bitcast (%jl_value_t*** @jl_pgcstack to i64*), align 8\n",
      "  ret %jl_value_t* %18\n",
      "}\n"
     ]
    }
   ],
   "source": [
    "@code_llvm g(Int64)"
   ]
  },
  {
   "cell_type": "code",
   "execution_count": 22,
   "metadata": {},
   "outputs": [
    {
     "name": "stdout",
     "output_type": "stream",
     "text": [
      "\n",
      "define %jl_value_t* @julia_g_21763(%jl_value_t*, %jl_value_t**, i32) {\n",
      "top:\n",
      "  %3 = alloca [5 x %jl_value_t*], align 8\n",
      "  %.sub = getelementptr inbounds [5 x %jl_value_t*], [5 x %jl_value_t*]* %3, i64 0, i64 0\n",
      "  %4 = getelementptr [5 x %jl_value_t*], [5 x %jl_value_t*]* %3, i64 0, i64 2\n",
      "  %5 = getelementptr [5 x %jl_value_t*], [5 x %jl_value_t*]* %3, i64 0, i64 3\n",
      "  %6 = bitcast [5 x %jl_value_t*]* %3 to i64*\n",
      "  store i64 6, i64* %6, align 8\n",
      "  %7 = getelementptr [5 x %jl_value_t*], [5 x %jl_value_t*]* %3, i64 0, i64 1\n",
      "  %8 = load i64, i64* bitcast (%jl_value_t*** @jl_pgcstack to i64*), align 8\n",
      "  %9 = bitcast %jl_value_t** %7 to i64*\n",
      "  store i64 %8, i64* %9, align 8\n",
      "  store %jl_value_t** %.sub, %jl_value_t*** @jl_pgcstack, align 8\n",
      "  store %jl_value_t* null, %jl_value_t** %5, align 8\n",
      "  %10 = getelementptr [5 x %jl_value_t*], [5 x %jl_value_t*]* %3, i64 0, i64 4\n",
      "  store %jl_value_t* null, %jl_value_t** %10, align 8\n",
      "  %11 = bitcast %jl_value_t** %1 to i64*\n",
      "  %12 = load i64, i64* %11, align 8\n",
      "  %13 = bitcast %jl_value_t** %4 to i64*\n",
      "  store i64 %12, i64* %13, align 8\n",
      "  %14 = bitcast %jl_value_t** %10 to i64*\n",
      "  br label %L\n",
      "\n",
      "L:                                                ; preds = %L, %top\n",
      "  %15 = phi i64 [ %12, %top ], [ %20, %L ]\n",
      "  %\"#s8.0\" = phi i64 [ 1, %top ], [ %16, %L ]\n",
      "  %16 = add nuw nsw i64 %\"#s8.0\", 1\n",
      "  store %jl_value_t* inttoptr (i64 139892033577280 to %jl_value_t*), %jl_value_t** %5, align 8\n",
      "  store i64 %15, i64* %14, align 8\n",
      "  %17 = call %jl_value_t* @jl_apply_generic(%jl_value_t* inttoptr (i64 139892037613648 to %jl_value_t*), %jl_value_t** %5, i32 2)\n",
      "  store %jl_value_t* %17, %jl_value_t** %5, align 8\n",
      "  store %jl_value_t* inttoptr (i64 139892033577088 to %jl_value_t*), %jl_value_t** %10, align 8\n",
      "  %18 = call %jl_value_t* @jl_apply_generic(%jl_value_t* inttoptr (i64 139892038512304 to %jl_value_t*), %jl_value_t** %5, i32 2)\n",
      "  store %jl_value_t* %18, %jl_value_t** %4, align 8\n",
      "  %19 = icmp eq i64 %\"#s8.0\", 10\n",
      "  %20 = ptrtoint %jl_value_t* %18 to i64\n",
      "  br i1 %19, label %L3, label %L\n",
      "\n",
      "L3:                                               ; preds = %L\n",
      "  %21 = load i64, i64* %9, align 8\n",
      "  store i64 %21, i64* bitcast (%jl_value_t*** @jl_pgcstack to i64*), align 8\n",
      "  ret %jl_value_t* %18\n",
      "}\n"
     ]
    }
   ],
   "source": [
    "@code_llvm g(Float64)"
   ]
  },
  {
   "cell_type": "code",
   "execution_count": 23,
   "metadata": {},
   "outputs": [
    {
     "data": {
      "text/plain": [
       "g_fastmath (generic function with 1 method)"
      ]
     },
     "execution_count": 23,
     "metadata": {},
     "output_type": "execute_result"
    }
   ],
   "source": [
    "function g_fastmath(k)  \n",
    "    @fastmath for i = 1:10  \n",
    "        k = 5k - 1\n",
    "    end\n",
    "    k\n",
    "end"
   ]
  },
  {
   "cell_type": "code",
   "execution_count": 24,
   "metadata": {},
   "outputs": [
    {
     "name": "stdout",
     "output_type": "stream",
     "text": [
      "\n",
      "define %jl_value_t* @julia_g_fastmath_21765(%jl_value_t*, %jl_value_t**, i32) {\n",
      "top:\n",
      "  %3 = alloca [5 x %jl_value_t*], align 8\n",
      "  %.sub = getelementptr inbounds [5 x %jl_value_t*], [5 x %jl_value_t*]* %3, i64 0, i64 0\n",
      "  %4 = getelementptr [5 x %jl_value_t*], [5 x %jl_value_t*]* %3, i64 0, i64 2\n",
      "  %5 = getelementptr [5 x %jl_value_t*], [5 x %jl_value_t*]* %3, i64 0, i64 3\n",
      "  %6 = bitcast [5 x %jl_value_t*]* %3 to i64*\n",
      "  store i64 6, i64* %6, align 8\n",
      "  %7 = getelementptr [5 x %jl_value_t*], [5 x %jl_value_t*]* %3, i64 0, i64 1\n",
      "  %8 = load i64, i64* bitcast (%jl_value_t*** @jl_pgcstack to i64*), align 8\n",
      "  %9 = bitcast %jl_value_t** %7 to i64*\n",
      "  store i64 %8, i64* %9, align 8\n",
      "  store %jl_value_t** %.sub, %jl_value_t*** @jl_pgcstack, align 8\n",
      "  store %jl_value_t* null, %jl_value_t** %5, align 8\n",
      "  %10 = getelementptr [5 x %jl_value_t*], [5 x %jl_value_t*]* %3, i64 0, i64 4\n",
      "  store %jl_value_t* null, %jl_value_t** %10, align 8\n",
      "  %11 = bitcast %jl_value_t** %1 to i64*\n",
      "  %12 = load i64, i64* %11, align 8\n",
      "  %13 = bitcast %jl_value_t** %4 to i64*\n",
      "  store i64 %12, i64* %13, align 8\n",
      "  %14 = bitcast %jl_value_t** %10 to i64*\n",
      "  br label %L\n",
      "\n",
      "L:                                                ; preds = %L, %top\n",
      "  %15 = phi i64 [ %12, %top ], [ %20, %L ]\n",
      "  %\"#s8.0\" = phi i64 [ 1, %top ], [ %16, %L ]\n",
      "  %16 = add nuw nsw i64 %\"#s8.0\", 1\n",
      "  store %jl_value_t* inttoptr (i64 139892033577280 to %jl_value_t*), %jl_value_t** %5, align 8\n",
      "  store i64 %15, i64* %14, align 8\n",
      "  %17 = call %jl_value_t* @jl_apply_generic(%jl_value_t* inttoptr (i64 139892053429936 to %jl_value_t*), %jl_value_t** %5, i32 2)\n",
      "  store %jl_value_t* %17, %jl_value_t** %5, align 8\n",
      "  store %jl_value_t* inttoptr (i64 139892033577088 to %jl_value_t*), %jl_value_t** %10, align 8\n",
      "  %18 = call %jl_value_t* @jl_apply_generic(%jl_value_t* inttoptr (i64 139892053436432 to %jl_value_t*), %jl_value_t** %5, i32 2)\n",
      "  store %jl_value_t* %18, %jl_value_t** %4, align 8\n",
      "  %19 = icmp eq i64 %\"#s8.0\", 10\n",
      "  %20 = ptrtoint %jl_value_t* %18 to i64\n",
      "  br i1 %19, label %L3, label %L\n",
      "\n",
      "L3:                                               ; preds = %L\n",
      "  %21 = load i64, i64* %9, align 8\n",
      "  store i64 %21, i64* bitcast (%jl_value_t*** @jl_pgcstack to i64*), align 8\n",
      "  ret %jl_value_t* %18\n",
      "}\n"
     ]
    }
   ],
   "source": [
    "@code_llvm g_fastmath(Int64)"
   ]
  },
  {
   "cell_type": "code",
   "execution_count": 25,
   "metadata": {},
   "outputs": [
    {
     "name": "stdout",
     "output_type": "stream",
     "text": [
      "\n",
      "define %jl_value_t* @julia_g_fastmath_21765(%jl_value_t*, %jl_value_t**, i32) {\n",
      "top:\n",
      "  %3 = alloca [5 x %jl_value_t*], align 8\n",
      "  %.sub = getelementptr inbounds [5 x %jl_value_t*], [5 x %jl_value_t*]* %3, i64 0, i64 0\n",
      "  %4 = getelementptr [5 x %jl_value_t*], [5 x %jl_value_t*]* %3, i64 0, i64 2\n",
      "  %5 = getelementptr [5 x %jl_value_t*], [5 x %jl_value_t*]* %3, i64 0, i64 3\n",
      "  %6 = bitcast [5 x %jl_value_t*]* %3 to i64*\n",
      "  store i64 6, i64* %6, align 8\n",
      "  %7 = getelementptr [5 x %jl_value_t*], [5 x %jl_value_t*]* %3, i64 0, i64 1\n",
      "  %8 = load i64, i64* bitcast (%jl_value_t*** @jl_pgcstack to i64*), align 8\n",
      "  %9 = bitcast %jl_value_t** %7 to i64*\n",
      "  store i64 %8, i64* %9, align 8\n",
      "  store %jl_value_t** %.sub, %jl_value_t*** @jl_pgcstack, align 8\n",
      "  store %jl_value_t* null, %jl_value_t** %5, align 8\n",
      "  %10 = getelementptr [5 x %jl_value_t*], [5 x %jl_value_t*]* %3, i64 0, i64 4\n",
      "  store %jl_value_t* null, %jl_value_t** %10, align 8\n",
      "  %11 = bitcast %jl_value_t** %1 to i64*\n",
      "  %12 = load i64, i64* %11, align 8\n",
      "  %13 = bitcast %jl_value_t** %4 to i64*\n",
      "  store i64 %12, i64* %13, align 8\n",
      "  %14 = bitcast %jl_value_t** %10 to i64*\n",
      "  br label %L\n",
      "\n",
      "L:                                                ; preds = %L, %top\n",
      "  %15 = phi i64 [ %12, %top ], [ %20, %L ]\n",
      "  %\"#s8.0\" = phi i64 [ 1, %top ], [ %16, %L ]\n",
      "  %16 = add nuw nsw i64 %\"#s8.0\", 1\n",
      "  store %jl_value_t* inttoptr (i64 139892033577280 to %jl_value_t*), %jl_value_t** %5, align 8\n",
      "  store i64 %15, i64* %14, align 8\n",
      "  %17 = call %jl_value_t* @jl_apply_generic(%jl_value_t* inttoptr (i64 139892053429936 to %jl_value_t*), %jl_value_t** %5, i32 2)\n",
      "  store %jl_value_t* %17, %jl_value_t** %5, align 8\n",
      "  store %jl_value_t* inttoptr (i64 139892033577088 to %jl_value_t*), %jl_value_t** %10, align 8\n",
      "  %18 = call %jl_value_t* @jl_apply_generic(%jl_value_t* inttoptr (i64 139892053436432 to %jl_value_t*), %jl_value_t** %5, i32 2)\n",
      "  store %jl_value_t* %18, %jl_value_t** %4, align 8\n",
      "  %19 = icmp eq i64 %\"#s8.0\", 10\n",
      "  %20 = ptrtoint %jl_value_t* %18 to i64\n",
      "  br i1 %19, label %L3, label %L\n",
      "\n",
      "L3:                                               ; preds = %L\n",
      "  %21 = load i64, i64* %9, align 8\n",
      "  store i64 %21, i64* bitcast (%jl_value_t*** @jl_pgcstack to i64*), align 8\n",
      "  ret %jl_value_t* %18\n",
      "}\n"
     ]
    }
   ],
   "source": [
    "@code_llvm g_fastmath(Float64)"
   ]
  },
  {
   "cell_type": "markdown",
   "metadata": {},
   "source": [
    "#### Explanation"
   ]
  },
  {
   "cell_type": "markdown",
   "metadata": {},
   "source": [
    "#### Q4\n",
    "Create the vector x = (0.988, 0.989, 0.990, ..., 1.010, 1.011, 1.012).\n",
    "\n",
    "Plot the polynomial y = x^7 - 7x^6 + 21x^5 - 35x^4 + 35x^3 - 21x^2 + 7x -1 at points x.\n",
    "\n",
    "Plot the polynomial y = (x - 1)^7 at points x.\n",
    "\n",
    "Explain what you found.\n"
   ]
  },
  {
   "cell_type": "code",
   "execution_count": 69,
   "metadata": {},
   "outputs": [
    {
     "data": {
      "text/plain": [
       "25-element Array{Float64,1}:\n",
       " 0.988\n",
       " 0.989\n",
       " 0.99 \n",
       " 0.991\n",
       " 0.992\n",
       " 0.993\n",
       " 0.994\n",
       " 0.995\n",
       " 0.996\n",
       " 0.997\n",
       " 0.998\n",
       " 0.999\n",
       " 1.0  \n",
       " 1.001\n",
       " 1.002\n",
       " 1.003\n",
       " 1.004\n",
       " 1.005\n",
       " 1.006\n",
       " 1.007\n",
       " 1.008\n",
       " 1.009\n",
       " 1.01 \n",
       " 1.011\n",
       " 1.012"
      ]
     },
     "execution_count": 69,
     "metadata": {},
     "output_type": "execute_result"
    }
   ],
   "source": [
    "x = collect(0.988:0.001:1.012)"
   ]
  },
  {
   "cell_type": "code",
   "execution_count": 70,
   "metadata": {},
   "outputs": [
    {
     "data": {
      "text/plain": [
       "25-element Array{Float64,1}:\n",
       " -3.90799e-14\n",
       " -2.66454e-14\n",
       " -1.42109e-14\n",
       " -7.99361e-15\n",
       " -2.66454e-15\n",
       "  6.21725e-15\n",
       " -8.88178e-15\n",
       "  0.0        \n",
       " -1.77636e-15\n",
       " -2.66454e-15\n",
       " -8.88178e-16\n",
       " -1.77636e-15\n",
       "  0.0        \n",
       " -5.32907e-15\n",
       "  8.88178e-16\n",
       "  5.32907e-15\n",
       " -1.77636e-15\n",
       "  2.66454e-15\n",
       " -1.77636e-15\n",
       "  0.0        \n",
       " -4.44089e-15\n",
       " -3.55271e-15\n",
       "  0.0        \n",
       "  1.5099e-14 \n",
       "  4.61853e-14"
      ]
     },
     "execution_count": 70,
     "metadata": {},
     "output_type": "execute_result"
    }
   ],
   "source": [
    "y = x .^ 7 - 7 * x .^ 6 + 21 * x .^ 5 - 35 * x .^ 4 + 35 * x.^ 3 - 21 * x .^ 2 + 7 * x - 1"
   ]
  },
  {
   "cell_type": "code",
   "execution_count": 71,
   "metadata": {
    "scrolled": true
   },
   "outputs": [
    {
     "data": {
      "text/html": [
       "<img src=\"data:image/png;base64,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\" />"
      ]
     },
     "execution_count": 71,
     "metadata": {},
     "output_type": "execute_result"
    }
   ],
   "source": [
    "using Plots\n",
    "pyplot()\n",
    "plot(x, y)"
   ]
  },
  {
   "cell_type": "code",
   "execution_count": 72,
   "metadata": {},
   "outputs": [
    {
     "data": {
      "text/plain": [
       "25-element Array{Float64,1}:\n",
       " -3.58318e-14\n",
       " -1.94872e-14\n",
       " -1.0e-14    \n",
       " -4.78297e-15\n",
       " -2.09715e-15\n",
       " -8.23543e-16\n",
       " -2.79936e-16\n",
       " -7.8125e-17 \n",
       " -1.6384e-17 \n",
       " -2.187e-18  \n",
       " -1.28e-19   \n",
       " -1.0e-21    \n",
       "  0.0        \n",
       "  1.0e-21    \n",
       "  1.28e-19   \n",
       "  2.187e-18  \n",
       "  1.6384e-17 \n",
       "  7.8125e-17 \n",
       "  2.79936e-16\n",
       "  8.23543e-16\n",
       "  2.09715e-15\n",
       "  4.78297e-15\n",
       "  1.0e-14    \n",
       "  1.94872e-14\n",
       "  3.58318e-14"
      ]
     },
     "execution_count": 72,
     "metadata": {},
     "output_type": "execute_result"
    }
   ],
   "source": [
    "y = (x - 1) .^ 7"
   ]
  },
  {
   "cell_type": "code",
   "execution_count": 73,
   "metadata": {},
   "outputs": [
    {
     "data": {
      "text/html": [
       "<img src=\"data:image/png;base64,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\" />"
      ]
     },
     "execution_count": 73,
     "metadata": {},
     "output_type": "execute_result"
    }
   ],
   "source": [
    "pyplot()\n",
    "plot(x, y)"
   ]
  },
  {
   "cell_type": "markdown",
   "metadata": {},
   "source": [
    "#### Q5\n",
    "\n",
    "Let the n×n matrix H have elements H[i, j] = 1 / (i + j - 1).\n",
    "\n",
    "Write a function h(n) that outputs n×n matrix H. Try at least 3 ways, e.g., looping, comprehension, and vectorization. Compute and print H for n = 5.\n",
    "\n",
    "Compare their efficiencies at n = 1000.\n",
    "\n",
    "Try different rounding modes (use function setrounding(Float64, RoundingMode)) and report the entry inv(H)[1, 1] for n = 15."
   ]
  },
  {
   "cell_type": "code",
   "execution_count": 50,
   "metadata": {},
   "outputs": [
    {
     "data": {
      "text/plain": [
       "h_loop (generic function with 1 method)"
      ]
     },
     "execution_count": 50,
     "metadata": {},
     "output_type": "execute_result"
    }
   ],
   "source": [
    "####Looping\n",
    "function h_loop(n)\n",
    "    H = zeros(n, n)\n",
    "    for i = 1:n\n",
    "        for j = 1:n\n",
    "            H[i, j] = 1 / (i + j - 1)\n",
    "        end\n",
    "    end\n",
    "    return H\n",
    "end"
   ]
  },
  {
   "cell_type": "code",
   "execution_count": 51,
   "metadata": {},
   "outputs": [
    {
     "data": {
      "text/plain": [
       "5x5 Array{Float64,2}:\n",
       " 1.0       0.5       0.333333  0.25      0.2     \n",
       " 0.5       0.333333  0.25      0.2       0.166667\n",
       " 0.333333  0.25      0.2       0.166667  0.142857\n",
       " 0.25      0.2       0.166667  0.142857  0.125   \n",
       " 0.2       0.166667  0.142857  0.125     0.111111"
      ]
     },
     "execution_count": 51,
     "metadata": {},
     "output_type": "execute_result"
    }
   ],
   "source": [
    "h_loop(5)"
   ]
  },
  {
   "cell_type": "code",
   "execution_count": 53,
   "metadata": {},
   "outputs": [
    {
     "data": {
      "text/plain": [
       "h_comp (generic function with 1 method)"
      ]
     },
     "execution_count": 53,
     "metadata": {},
     "output_type": "execute_result"
    }
   ],
   "source": [
    "####Comprehensive\n",
    "function h_comp(n)\n",
    "    H = [(1 / (i + j - 1)) for i in 1:n, j in 1:n]\n",
    "    return H\n",
    "end"
   ]
  },
  {
   "cell_type": "code",
   "execution_count": 54,
   "metadata": {},
   "outputs": [
    {
     "data": {
      "text/plain": [
       "5x5 Array{Float64,2}:\n",
       " 1.0       0.5       0.333333  0.25      0.2     \n",
       " 0.5       0.333333  0.25      0.2       0.166667\n",
       " 0.333333  0.25      0.2       0.166667  0.142857\n",
       " 0.25      0.2       0.166667  0.142857  0.125   \n",
       " 0.2       0.166667  0.142857  0.125     0.111111"
      ]
     },
     "execution_count": 54,
     "metadata": {},
     "output_type": "execute_result"
    }
   ],
   "source": [
    "h_comp(5)"
   ]
  },
  {
   "cell_type": "code",
   "execution_count": 63,
   "metadata": {},
   "outputs": [
    {
     "data": {
      "text/plain": [
       "h_vect (generic function with 1 method)"
      ]
     },
     "execution_count": 63,
     "metadata": {},
     "output_type": "execute_result"
    }
   ],
   "source": [
    "####Vectorization\n",
    "function h_vect(n)\n",
    "    i = 1:n\n",
    "    j = 1:n\n",
    "    H = 1 ./ i + j - 1\n",
    "    return H\n",
    "end"
   ]
  },
  {
   "cell_type": "markdown",
   "metadata": {},
   "source": [
    "#### Q6\n",
    "#### 1. Show the Sherman-Morrison formula $$ (\\mathbf{A} + \\mathbf{u} \\mathbf{u}^T)^{-1} = \\mathbf{A}^{-1} - \\frac{1}{1 + \\mathbf{u}^T \\mathbf{A}^{-1} \\mathbf{u}} \\mathbf{A}^{-1} \\mathbf{u} \\mathbf{u}^T \\mathbf{A}^{-1}, $$ where $\\mathbf{A} \\in \\mathbb{R}^{n \\times n}$ is nonsingular and $\\mathbf{u} \\in \\mathbb{R}^n$. This formula supplies the inverse of the symmetric, rank-one perturbation of $\\mathbf{A}$."
   ]
  },
  {
   "cell_type": "markdown",
   "metadata": {},
   "source": [
    "#### Proof of Sherman-Morrison Formula:\n",
    "\n",
    "Suppose, we want to solve the following equation for x:<br>\n",
    "\n",
    "<nbsp> $(A + uu^{T}) = y -------------------(1)$ <br>\n",
    "    $\\implies Ax = y - uu^{T}x$ <br>\n",
    "    $\\implies x = A^{-1}y - A^{-1}uu^{T}x$, <br>\n",
    "where $u^{T}x$ is scalar. Let $u^{T}x = m$ <br>   \n",
    "Therefore, the solution for x in terms of m becomes, <br>\n",
    "    $x = A^{-1}y - A^{-1}um$ <br>\n",
    "\n",
    "Now solving for m, <br>\n",
    "$m = u^{T}x$  <br>\n",
    "$\\implies m = u^{T}A^{-1}y - u^{T}A^{-1}um$ <br>\n",
    "$\\implies(1 + u^{T}A^{-1}u)m = u^{T}A^{-1}y$ <br>\n",
    "$\\implies m = \\frac{u^{T}A^{-1}y}{1 + u^{T}A^{-1}u}$ <br><br>\n",
    "\n",
    "$\\therefore x = A^{-1}y - \\frac{A^{-1}uu^{T}A^{-1}y}{1 + u^{T}A^{-1}u}$<br>\n",
    "$\\implies x = (A^{-1} - \\frac{A^{-1}uu^{T}A^{-1}}{1 + u^{T}A^{-1}u})y$ <br><br>\n",
    "\n",
    "From Eq.(1),<br>\n",
    "$(A + uu^{T})(A^{-1} - \\frac{A^{-1}uu^{T}A^{-1}}{1 + u^{T}A^{-1}u})y = y$ <br>\n",
    "$\\implies (A + uu^{T})(A^{-1} - \\frac{A^{-1}uu^{T}A^{-1}}{1 + u^{T}A^{-1}u}) = 1$ <br>\n",
    "$\\implies (A + uu^{T})^{-1} = A^{-1} - \\frac{A^{-1}uu^{T}A^{-1}}{1 + u^{T}A^{-1}u}$ <br>\n",
    "$(Showed)$\n",
    "\n",
    "\n",
    "\n",
    "    "
   ]
  },
  {
   "cell_type": "markdown",
   "metadata": {},
   "source": [
    "#### 2. Show the Woodbury formula $$ (\\mathbf{A} + \\mathbf{U} \\mathbf{V}^T)^{-1} = \\mathbf{A}^{-1} - \\mathbf{A}^{-1} \\mathbf{U} (\\mathbf{I}_m + \\mathbf{V}^T \\mathbf{A}^{-1} \\mathbf{U})^{-1} \\mathbf{V}^T \\mathbf{A}^{-1}, $$ where $\\mathbf{A} \\in \\mathbb{R}^{n \\times n}$ is nonsingular, $\\mathbf{U}, \\mathbf{V} \\in \\mathbb{R}^{n \\times m}$, and $\\mathbf{I}_m$ is the $m \\times m$ identity matrix. In many applications $m$ is much smaller than $n$. Woodbury formula generalizes Sherman-Morrison and is valuable because the smaller matrix $\\mathbf{I}_m + \\mathbf{V}^T \\mathbf{A}^{-1} \\mathbf{U}$ is cheaper to invert than the larger matrix $\\mathbf{A} + \\mathbf{U} \\mathbf{V}^T$."
   ]
  },
  {
   "cell_type": "markdown",
   "metadata": {},
   "source": [
    "#### Proof of Woodbury Formula:\n",
    "We can take the product of two sides and then the product should be an identity matrix. <br>\n",
    "\n",
    "$(A + UV^{T})(A^{-1} - A^{-1}U(I_m + V^{T}A^{-1}U)^{-1}V^{T}A^{-1})$ <br>\n",
    "$= AA^{-1} + UV^{T}A^{-1} - AA^{-1}U(I_m + V^{T}A^{-1}U)^{-1}V^{T}A^{-1} - UV^{T}A^{-1}U(I_m + V^{T}A^{-1}U)^{-1}V^{T}A^{-1}$ <br>\n",
    "$= I_n + UV^{T}A^{-1} - U(I_m + V^{T}A^{-1}U)^{-1}V^{T}A^{-1} - UV^{T}A^{-1}U(I_m + V^{T}A^{-1}U)^{-1}V^{T}A^{-1}$ <br>\n",
    "$= I_n + U(I - (I_m + V^{T}A^{-1}U)^{-1} - V^{T}A^{-1}U(I_m + V^{T}A^{-1}U)^{-1})V^{T}A^{-1}$ <br>\n",
    "$= I_n + U(I - (I_m + V^{T}A^{-1}U)^{-1}(I_m + V^{T}A^{-1}U))V^{T}A^{-1}$ <br>\n",
    "$= I_n + U(I - I)V^{T}A^{-1}$ <br>\n",
    "$= I_n + 0$ <br>\n",
    "$= I_n$ <br>\n",
    "$(Showed)$"
   ]
  },
  {
   "cell_type": "markdown",
   "metadata": {},
   "source": [
    "#### 3. Show the binomial inversion formula $$ (\\mathbf{A} + \\mathbf{U} \\mathbf{B} \\mathbf{V}^T)^{-1} = \\mathbf{A}^{-1} - \\mathbf{A}^{-1} \\mathbf{U} (\\mathbf{B}^{-1} + \\mathbf{V}^T \\mathbf{A}^{-1} \\mathbf{U})^{-1} \\mathbf{V}^T \\mathbf{A}^{-1}, $$ where $\\mathbf{A}$ and $\\mathbf{B}$ are nonsingular.\n"
   ]
  },
  {
   "cell_type": "markdown",
   "metadata": {},
   "source": [
    "#### Proof of Binomial Inversion Formula:\n",
    "\n",
    "We can take the product of two sides and then the product should be an identity matrix. <br>\n",
    "\n",
    "$(A + UBV^{T})(A^{-1} - A^{-1}U(B^{-1} + V^{T}A^{-1}U)^{-1}V^{T}A^{-1})$ <br>\n",
    "$= AA^{-1} + UBV^{T}A^{-1} - AA^{-1}U(B^{-1} + V^{T}A^{-1}U)^{-1}V^{T}A^{-1} - UV^{T}A^{-1}U(B^{-1} + V^{T}A^{-1}U)^{-1}V^{T}A^{-1}$ <br>\n",
    "$= I + UBV^{T}A^{-1} - U(B^{-1} + V^{T}A^{-1}U)^{-1}V^{T}A^{-1} - UV^{T}A^{-1}U(B^{-1} + V^{T}A^{-1}U)^{-1}V^{T}A^{-1} $ <br>\n",
    "$= I + UB(I - (B^{-1} + V^{T}A^{-1}U)^{-1} - V^{T}A^{-1}U(B^{-1} + V^{T}A^{-1}U)^{-1})V^{T}A^{-1}$ <br>\n",
    "$= I + UB(I - (B^{-1} + V^{T}A^{-1}U)^{-1}(B^{-1} + V^{T}A^{-1}U))V^{T}A^{-1}$ <br>\n",
    "$= I + UB(I - I)V^{T}A^{-1}$ <br>\n",
    "$= I + 0$ <br>\n",
    "$= I$ <br>\n",
    "$(Showed)$\n",
    "\n",
    "\n",
    "\n",
    "\n",
    "\n",
    "\n"
   ]
  },
  {
   "cell_type": "markdown",
   "metadata": {},
   "source": [
    "#### 4. Show the identity $$ \\text{det}(\\mathbf{A} + \\mathbf{U} \\mathbf{V}^T) = \\text{det}(\\mathbf{A}) \\text{det}(\\mathbf{I}_m + \\mathbf{V}^T \\mathbf{A}^{-1} \\mathbf{U}). $$ This formula is useful for evaluating the density of a multivariate normal with covariance matrix $\\mathbf{A} + \\mathbf{U} \\mathbf{V}^T$.\n"
   ]
  },
  {
   "cell_type": "markdown",
   "metadata": {},
   "source": [
    "#### Proof:\n",
    "$det(A + UV^{T})$ <br>\n",
    "$= det(A) det(I_m + A^{-1}UV^{T})$ <br><br>\n",
    "\n",
    "For a positive definite matrix A, once a diagonal entry of A has been swept, the diagonal entry forms part of the matrix $-A_{11}^{-1}$, which is negative definite. Based on the matrix identity,\n",
    "$$det(A) = det(A_{11})det(A_{22} - A_{21}A_{11}^{-1}A_{12})$$ <br>\n",
    "It always holds for $1\\times1$ matrix as it follows inductively. Analogously,\n",
    "$$det(A) = det(A_{22})det(A_{11} - A_{12}A_{22}^{-1}A_{21})$$ <br><br>\n",
    "Following these, now we can write:<br>\n",
    "\n",
    "$= det(A) det \n",
    "\\begin{pmatrix}\n",
    "I_n & V^{T} \\\\\n",
    "-A^{-1}U & I_m\n",
    "\\end{pmatrix}$ <br>\n",
    "$= det(A) det(V^{T}A^{-1}U)$ <br>\n",
    "$ (Showed)$\n",
    "\n"
   ]
  }
 ],
 "metadata": {
  "kernelspec": {
   "display_name": "Julia 0.4.5",
   "language": "julia",
   "name": "julia-0.4"
  },
  "language_info": {
   "file_extension": ".jl",
   "mimetype": "application/julia",
   "name": "julia",
   "version": "0.4.5"
  }
 },
 "nbformat": 4,
 "nbformat_minor": 2
}
