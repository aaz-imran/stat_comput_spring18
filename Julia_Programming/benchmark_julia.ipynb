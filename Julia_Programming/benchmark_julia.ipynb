{
 "cells": [
  {
   "cell_type": "code",
   "execution_count": 1,
   "metadata": {},
   "outputs": [
    {
     "name": "stdout",
     "output_type": "stream",
     "text": [
      "\n",
      "\n",
      "   Julia Benchmark\n",
      "   ===============\n",
      "Number of times each test is run__________________________: 5\n",
      "\n",
      "\n"
     ]
    }
   ],
   "source": [
    "runs = 5    # Number of times the tests are executed\n",
    "times = zeros(5, 3)\n",
    "\n",
    "println(\"\\n\\n   Julia Benchmark\")\n",
    "println(\"   ===============\")\n",
    "println(\"Number of times each test is run__________________________: $runs\")\n",
    "println(\"\\n\")"
   ]
  },
  {
   "cell_type": "code",
   "execution_count": 4,
   "metadata": {},
   "outputs": [
    {
     "name": "stdout",
     "output_type": "stream",
     "text": [
      "   I. Matrix calculation\n",
      "   ---------------------\n"
     ]
    }
   ],
   "source": [
    "#************************ I. Matrix calculation ********************#\n",
    "\n",
    "println(\"   I. Matrix calculation\")\n",
    "println(\"   ---------------------\")"
   ]
  },
  {
   "cell_type": "code",
   "execution_count": 5,
   "metadata": {},
   "outputs": [
    {
     "name": "stdout",
     "output_type": "stream",
     "text": [
      "Creation, transp., deformation of a 2500x2500 matrix (sec): 0.19380915259999998\n"
     ]
    }
   ],
   "source": [
    "# (1) Matrix creation, trans., deform. (2500 x 2500)\n",
    "gc()\n",
    "cumulate = 0.0 \n",
    "for i = 1:runs\n",
    "  timing = @elapsed begin\n",
    "    a = randn(2500, 2500) / 10\n",
    "    b = a'\n",
    "    b = reshape(b, 1250, 5000)\n",
    "    a = b'\n",
    "end\n",
    "  cumulate = cumulate + timing\n",
    "end\n",
    "timing = cumulate / runs\n",
    "times[1, 1] = timing\n",
    "println(\"Creation, transp., deformation of a 2500x2500 matrix (sec): $timing\")"
   ]
  },
  {
   "cell_type": "code",
   "execution_count": 6,
   "metadata": {},
   "outputs": [
    {
     "name": "stdout",
     "output_type": "stream",
     "text": [
      "2400x2400 normal distributed random matrix ^1000____ (sec): 0.1614871026\n"
     ]
    }
   ],
   "source": [
    "# (2) Power of matrix (2400 x 2400, A.^1000)\n",
    "\n",
    "gc()\n",
    "cumulate = 0.0\n",
    "for i = 1:runs\n",
    "  a = abs(randn(2500, 2500) / 2)\n",
    "  timing = @elapsed (\n",
    "    b = a.^1000\n",
    "  )\n",
    "  cumulate = cumulate + timing\n",
    "end\n",
    "timing = cumulate / runs\n",
    "times[2, 1] = timing\n",
    "println(\"2400x2400 normal distributed random matrix ^1000____ (sec): $timing\")"
   ]
  }
 ],
 "metadata": {
  "kernelspec": {
   "display_name": "Julia 0.4.5",
   "language": "julia",
   "name": "julia-0.4"
  },
  "language_info": {
   "file_extension": ".jl",
   "mimetype": "application/julia",
   "name": "julia",
   "version": "0.4.5"
  }
 },
 "nbformat": 4,
 "nbformat_minor": 2
}
